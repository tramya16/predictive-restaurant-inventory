{
  "nbformat": 4,
  "nbformat_minor": 0,
  "metadata": {
    "colab": {
      "provenance": []
    },
    "kernelspec": {
      "name": "python3",
      "display_name": "Python 3"
    },
    "language_info": {
      "name": "python"
    }
  },
  "cells": [
    {
      "cell_type": "code",
      "source": [
        "!pip install dash"
      ],
      "metadata": {
        "colab": {
          "base_uri": "https://localhost:8080/"
        },
        "id": "B4aTEauXm-D2",
        "outputId": "e77b0e01-f659-493c-a154-9b9cd2e00d4e"
      },
      "execution_count": null,
      "outputs": [
        {
          "output_type": "stream",
          "name": "stdout",
          "text": [
            "Requirement already satisfied: dash in /usr/local/lib/python3.10/dist-packages (2.18.2)\n",
            "Requirement already satisfied: Flask<3.1,>=1.0.4 in /usr/local/lib/python3.10/dist-packages (from dash) (3.0.3)\n",
            "Requirement already satisfied: Werkzeug<3.1 in /usr/local/lib/python3.10/dist-packages (from dash) (3.0.6)\n",
            "Requirement already satisfied: plotly>=5.0.0 in /usr/local/lib/python3.10/dist-packages (from dash) (5.24.1)\n",
            "Requirement already satisfied: dash-html-components==2.0.0 in /usr/local/lib/python3.10/dist-packages (from dash) (2.0.0)\n",
            "Requirement already satisfied: dash-core-components==2.0.0 in /usr/local/lib/python3.10/dist-packages (from dash) (2.0.0)\n",
            "Requirement already satisfied: dash-table==5.0.0 in /usr/local/lib/python3.10/dist-packages (from dash) (5.0.0)\n",
            "Requirement already satisfied: importlib-metadata in /usr/local/lib/python3.10/dist-packages (from dash) (8.5.0)\n",
            "Requirement already satisfied: typing-extensions>=4.1.1 in /usr/local/lib/python3.10/dist-packages (from dash) (4.12.2)\n",
            "Requirement already satisfied: requests in /usr/local/lib/python3.10/dist-packages (from dash) (2.32.3)\n",
            "Requirement already satisfied: retrying in /usr/local/lib/python3.10/dist-packages (from dash) (1.3.4)\n",
            "Requirement already satisfied: nest-asyncio in /usr/local/lib/python3.10/dist-packages (from dash) (1.6.0)\n",
            "Requirement already satisfied: setuptools in /usr/local/lib/python3.10/dist-packages (from dash) (75.1.0)\n",
            "Requirement already satisfied: Jinja2>=3.1.2 in /usr/local/lib/python3.10/dist-packages (from Flask<3.1,>=1.0.4->dash) (3.1.4)\n",
            "Requirement already satisfied: itsdangerous>=2.1.2 in /usr/local/lib/python3.10/dist-packages (from Flask<3.1,>=1.0.4->dash) (2.2.0)\n",
            "Requirement already satisfied: click>=8.1.3 in /usr/local/lib/python3.10/dist-packages (from Flask<3.1,>=1.0.4->dash) (8.1.7)\n",
            "Requirement already satisfied: blinker>=1.6.2 in /usr/local/lib/python3.10/dist-packages (from Flask<3.1,>=1.0.4->dash) (1.9.0)\n",
            "Requirement already satisfied: tenacity>=6.2.0 in /usr/local/lib/python3.10/dist-packages (from plotly>=5.0.0->dash) (9.0.0)\n",
            "Requirement already satisfied: packaging in /usr/local/lib/python3.10/dist-packages (from plotly>=5.0.0->dash) (24.2)\n",
            "Requirement already satisfied: MarkupSafe>=2.1.1 in /usr/local/lib/python3.10/dist-packages (from Werkzeug<3.1->dash) (3.0.2)\n",
            "Requirement already satisfied: zipp>=3.20 in /usr/local/lib/python3.10/dist-packages (from importlib-metadata->dash) (3.21.0)\n",
            "Requirement already satisfied: charset-normalizer<4,>=2 in /usr/local/lib/python3.10/dist-packages (from requests->dash) (3.4.0)\n",
            "Requirement already satisfied: idna<4,>=2.5 in /usr/local/lib/python3.10/dist-packages (from requests->dash) (3.10)\n",
            "Requirement already satisfied: urllib3<3,>=1.21.1 in /usr/local/lib/python3.10/dist-packages (from requests->dash) (2.2.3)\n",
            "Requirement already satisfied: certifi>=2017.4.17 in /usr/local/lib/python3.10/dist-packages (from requests->dash) (2024.8.30)\n",
            "Requirement already satisfied: six>=1.7.0 in /usr/local/lib/python3.10/dist-packages (from retrying->dash) (1.16.0)\n"
          ]
        }
      ]
    },
    {
      "cell_type": "markdown",
      "source": [
        "***This is first heading***"
      ],
      "metadata": {
        "id": "GVzjrg8gVwAs"
      }
    },
    {
      "cell_type": "code",
      "source": [
        "import dash\n",
        "from dash import dcc, html\n",
        "import plotly.graph_objs as go\n",
        "from dash.dependencies import Input, Output\n",
        "import pandas as pd\n",
        "from datetime import timedelta\n",
        "import joblib\n",
        "import numpy as np\n",
        "\n",
        "# Dataset generator\n",
        "def generate_dates(start_date, end_date):\n",
        "    \"\"\"Generate a list of dates between start_date and end_date (inclusive).\"\"\"\n",
        "    start = pd.to_datetime(start_date)\n",
        "    end = pd.to_datetime(end_date)\n",
        "    return [start + timedelta(days=i) for i in range((end - start).days + 1)]\n",
        "\n",
        "def simulate_orders(dates, base_orders=100):\n",
        "    \"\"\"\n",
        "    Simulate daily orders with fixed multipliers:\n",
        "    - Weekends: 1.5\n",
        "    - Holidays (December): 2.0\n",
        "    - Weekdays: 1.0\n",
        "    \"\"\"\n",
        "    orders = []\n",
        "    for date in dates:\n",
        "        if date.strftime(\"%B\") == \"December\":\n",
        "            multiplier = 2.0\n",
        "        elif date.weekday() in [5, 6]:  # Weekend\n",
        "            multiplier = 1.5\n",
        "        else:  # Weekday\n",
        "            multiplier = 1.0\n",
        "\n",
        "        daily_orders = np.random.poisson(base_orders * multiplier)\n",
        "        orders.append(daily_orders)\n",
        "    return orders\n",
        "\n",
        "def create_simulated_dataset(start_date, end_date, base_orders=100):\n",
        "    \"\"\"Generate a simulated dataset with dates and simulated orders.\"\"\"\n",
        "    dates = generate_dates(start_date, end_date)\n",
        "    orders = simulate_orders(dates, base_orders)\n",
        "    df = pd.DataFrame({\n",
        "        \"date\": dates,\n",
        "        \"orders\": orders\n",
        "    })\n",
        "    return df\n",
        "\n",
        "# Load the pre-trained model\n",
        "model_path = \"holt_winters.pkl\"  # Ensure this file is in the correct path\n",
        "model = joblib.load(model_path)\n",
        "\n",
        "# Initialize Dash app\n",
        "app = dash.Dash(__name__)\n",
        "\n",
        "# Initialize the dataset with a starting date\n",
        "initial_date = pd.to_datetime(\"2023-01-01\")\n",
        "initial_end_date = initial_date + timedelta(days=6)\n",
        "df = create_simulated_dataset(initial_date, initial_end_date)\n",
        "\n",
        "# Layout of the dashboard\n",
        "app.layout = html.Div([\n",
        "    html.H1(\"Weekly Orders Prediction Dashboard\"),\n",
        "    dcc.Graph(id='orders-graph'),\n",
        "    dcc.Interval(\n",
        "        id='graph-update',\n",
        "        interval=5000,  # Update every 5 seconds\n",
        "        n_intervals=0\n",
        "    )\n",
        "])\n",
        "\n",
        "# Callback function to update the graph with new data and predictions\n",
        "@app.callback(\n",
        "    Output('orders-graph', 'figure'),\n",
        "    [Input('graph-update', 'n_intervals')]\n",
        ")\n",
        "def update_graph(n_intervals):\n",
        "    global df, model\n",
        "\n",
        "    # Generate new week's data\n",
        "    last_date = df['date'].max()\n",
        "    next_week_dates = generate_dates(last_date + timedelta(days=1), last_date + timedelta(days=7))\n",
        "    next_week_data = create_simulated_dataset(next_week_dates[0], next_week_dates[-1])\n",
        "\n",
        "    # Append new data to the dataset\n",
        "    df = pd.concat([df, next_week_data], ignore_index=True)\n",
        "\n",
        "    # Forecast the next 7 days\n",
        "    predictions = model.forecast(steps=7)\n",
        "    predicted_dates = generate_dates(df['date'].max() + timedelta(days=1), df['date'].max() + timedelta(days=7))\n",
        "    predicted_data = pd.DataFrame({\n",
        "        \"date\": predicted_dates,\n",
        "        \"orders\": predictions\n",
        "    })\n",
        "\n",
        "    # Append predictions to the dataset\n",
        "    df1 = pd.concat([df, predicted_data], ignore_index=True)\n",
        "\n",
        "    # Filter for the last 3 weeks of data\n",
        "    three_weeks_ago = df1['date'].max() - timedelta(weeks=3)\n",
        "    df1 = df1[df1['date'] >= three_weeks_ago]\n",
        "\n",
        "    # Create the plot\n",
        "    fig = go.Figure()\n",
        "\n",
        "    # Add trace for predictions\n",
        "    fig.add_trace(go.Scatter(\n",
        "        x=df1['date'], y=df1['orders'],\n",
        "        mode='lines+markers',\n",
        "        name='Predicted Orders',\n",
        "        line=dict(color='royalblue'),\n",
        "        marker=dict(size=6)\n",
        "    ))\n",
        "\n",
        "    # Update layout\n",
        "    fig.update_layout(\n",
        "        title=\"Predicted Orders for Last 3 Weeks\",\n",
        "        xaxis_title=\"Date\",\n",
        "        yaxis_title=\"Orders\",\n",
        "        template=\"plotly_dark\"\n",
        "    )\n",
        "\n",
        "    return fig\n",
        "\n",
        "# Run the app\n",
        "if __name__ == '__main__':\n",
        "    app.run_server(debug=True)\n"
      ],
      "metadata": {
        "colab": {
          "base_uri": "https://localhost:8080/",
          "height": 672
        },
        "id": "1oaliX4VIw0s",
        "outputId": "690f0810-1ded-4021-a5ca-8726be5f5fc7"
      },
      "execution_count": null,
      "outputs": [
        {
          "output_type": "display_data",
          "data": {
            "text/plain": [
              "<IPython.core.display.Javascript object>"
            ],
            "application/javascript": [
              "(async (port, path, width, height, cache, element) => {\n",
              "    if (!google.colab.kernel.accessAllowed && !cache) {\n",
              "      return;\n",
              "    }\n",
              "    element.appendChild(document.createTextNode(''));\n",
              "    const url = await google.colab.kernel.proxyPort(port, {cache});\n",
              "    const iframe = document.createElement('iframe');\n",
              "    iframe.src = new URL(path, url).toString();\n",
              "    iframe.height = height;\n",
              "    iframe.width = width;\n",
              "    iframe.style.border = 0;\n",
              "    iframe.allow = [\n",
              "        'accelerometer',\n",
              "        'autoplay',\n",
              "        'camera',\n",
              "        'clipboard-read',\n",
              "        'clipboard-write',\n",
              "        'gyroscope',\n",
              "        'magnetometer',\n",
              "        'microphone',\n",
              "        'serial',\n",
              "        'usb',\n",
              "        'xr-spatial-tracking',\n",
              "    ].join('; ');\n",
              "    element.appendChild(iframe);\n",
              "  })(8050, \"/\", \"100%\", 650, false, window.element)"
            ]
          },
          "metadata": {}
        }
      ]
    },
    {
      "cell_type": "code",
      "source": [],
      "metadata": {
        "id": "5ea-6q-hJfZE"
      },
      "execution_count": null,
      "outputs": []
    }
  ]
}